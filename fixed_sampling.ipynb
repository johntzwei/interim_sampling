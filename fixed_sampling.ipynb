{
 "cells": [
  {
   "cell_type": "code",
   "execution_count": 8,
   "id": "5a64a929",
   "metadata": {},
   "outputs": [],
   "source": [
    "import itertools\n",
    "from collections import defaultdict\n",
    "import os\n",
    "import pickle\n",
    "import multiprocessing\n",
    "\n",
    "import seaborn as sns\n",
    "sns.set()\n",
    "import matplotlib.pyplot as plt\n",
    "\n",
    "import numpy as np\n",
    "import pandas as pd\n",
    "import scipy\n",
    "from scipy import stats\n",
    "from statsmodels.stats.power import TTestIndPower\n",
    "from tqdm import tqdm\n",
    "\n",
    "from utils import filter_pairs, test_all"
   ]
  },
  {
   "cell_type": "code",
   "execution_count": 9,
   "id": "6e48cca7",
   "metadata": {},
   "outputs": [],
   "source": [
    "lp_source = 'ARA'\n",
    "lp_target = 'ENU'\n",
    "lengths = [600, 1200, 1800, 2400, 3000]"
   ]
  },
  {
   "cell_type": "code",
   "execution_count": 10,
   "id": "a43056c5",
   "metadata": {},
   "outputs": [
    {
     "name": "stdout",
     "output_type": "stream",
     "text": [
      "Annotated data loaded\n"
     ]
    },
    {
     "data": {
      "text/plain": [
       "71"
      ]
     },
     "execution_count": 10,
     "metadata": {},
     "output_type": "execute_result"
    }
   ],
   "source": [
    "pairs = filter_pairs(lp_source, lp_target, size=500)\n",
    "len(pairs)"
   ]
  },
  {
   "cell_type": "code",
   "execution_count": 11,
   "id": "22722058",
   "metadata": {},
   "outputs": [],
   "source": [
    "def simulate_fixed_pair(sys1, sys2, length=200, trials=1000, p=0.05):\n",
    "    pvalues, lengths = [], []\n",
    "    \n",
    "    for i in range(0, trials):\n",
    "        baseline_sys = sys1.sample(length, replace=True)\n",
    "        other_sys = sys2.sample(length, replace=True)\n",
    "        ind, pvalue = stats.mannwhitneyu(baseline_sys, other_sys)\n",
    "        \n",
    "        pvalues.append(pvalue)\n",
    "        lengths.append(length)\n",
    "    \n",
    "    power = (np.array(pvalues) < p).sum() / trials\n",
    "    \n",
    "    return power, np.mean(lengths)"
   ]
  },
  {
   "cell_type": "code",
   "execution_count": 6,
   "id": "abaceeca",
   "metadata": {},
   "outputs": [
    {
     "name": "stderr",
     "output_type": "stream",
     "text": [
      "100%|████████████████████████████████████████████████████████████████████████████████| 500/500 [06:37<00:00,  1.26it/s]\n",
      "100%|████████████████████████████████████████████████████████████████████████████████| 500/500 [12:16<00:00,  1.47s/it]\n",
      "100%|████████████████████████████████████████████████████████████████████████████████| 500/500 [23:49<00:00,  2.86s/it]\n",
      "100%|████████████████████████████████████████████████████████████████████████████████| 500/500 [31:59<00:00,  3.84s/it]\n",
      "100%|████████████████████████████████████████████████████████████████████████████████| 500/500 [36:59<00:00,  4.44s/it]\n"
     ]
    }
   ],
   "source": [
    "for length in lengths:\n",
    "    results = test_all(lp_pairs, lambda x, y: simulate_fixed_pair(x, y, length=length, trials=1000))\n",
    "    np.save(open('fixed_%s-%s_%d.npz' % (lp_source, lp_target, length), 'wb'), results)"
   ]
  }
 ],
 "metadata": {
  "kernelspec": {
   "display_name": "Python 3 (ipykernel)",
   "language": "python",
   "name": "python3"
  },
  "language_info": {
   "codemirror_mode": {
    "name": "ipython",
    "version": 3
   },
   "file_extension": ".py",
   "mimetype": "text/x-python",
   "name": "python",
   "nbconvert_exporter": "python",
   "pygments_lexer": "ipython3",
   "version": "3.8.13"
  }
 },
 "nbformat": 4,
 "nbformat_minor": 5
}
